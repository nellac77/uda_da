{
 "cells": [
  {
   "cell_type": "code",
   "execution_count": 8,
   "metadata": {},
   "outputs": [],
   "source": [
    "'''\n",
    "This is a script that will read in a few different csv files, as per the \n",
    "Udacity data analysis course instructions.\n",
    "'''\n",
    "\n",
    "import csv\n",
    "\n",
    "# function to read in csv files, file's name as the arg\n",
    "def read_csv(filename):\n",
    "    # open the data file as a dictionary\n",
    "    with open(filename, \"rb\") as f:\n",
    "        reader = csv.DictReader(f)\n",
    "        return list(reader)\n",
    "\n",
    "# test the function on some csv files\n",
    "#print(read_csv('enrollments.csv')[0])\n",
    "enrollments = read_csv('enrollments.csv')\n",
    "daily_engagement = read_csv('daily_engagement.csv')\n",
    "project_submissions = read_csv('project_submissions.csv')"
   ]
  },
  {
   "cell_type": "code",
   "execution_count": null,
   "metadata": {
    "collapsed": true
   },
   "outputs": [],
   "source": []
  },
  {
   "cell_type": "code",
   "execution_count": 10,
   "metadata": {
    "scrolled": true
   },
   "outputs": [
    {
     "data": {
      "text/plain": [
       "{'account_key': '448',\n",
       " 'cancel_date': '2015-01-14',\n",
       " 'days_to_cancel': '65',\n",
       " 'is_canceled': 'True',\n",
       " 'is_udacity': 'True',\n",
       " 'join_date': '2014-11-10',\n",
       " 'status': 'canceled'}"
      ]
     },
     "execution_count": 10,
     "metadata": {},
     "output_type": "execute_result"
    }
   ],
   "source": [
    "enrollments[0]"
   ]
  },
  {
   "cell_type": "code",
   "execution_count": 11,
   "metadata": {},
   "outputs": [
    {
     "data": {
      "text/plain": [
       "{'acct': '0',\n",
       " 'lessons_completed': '0.0',\n",
       " 'num_courses_visited': '1.0',\n",
       " 'projects_completed': '0.0',\n",
       " 'total_minutes_visited': '11.6793745',\n",
       " 'utc_date': '2015-01-09'}"
      ]
     },
     "execution_count": 11,
     "metadata": {},
     "output_type": "execute_result"
    }
   ],
   "source": [
    "daily_engagement[0]"
   ]
  },
  {
   "cell_type": "code",
   "execution_count": 15,
   "metadata": {},
   "outputs": [
    {
     "data": {
      "text/plain": [
       "{'account_key': '256',\n",
       " 'assigned_rating': 'UNGRADED',\n",
       " 'completion_date': '2015-01-16',\n",
       " 'creation_date': '2015-01-14',\n",
       " 'lesson_key': '3176718735',\n",
       " 'processing_state': 'EVALUATED'}"
      ]
     },
     "execution_count": 15,
     "metadata": {},
     "output_type": "execute_result"
    }
   ],
   "source": [
    "project_submissions[0]"
   ]
  },
  {
   "cell_type": "markdown",
   "metadata": {},
   "source": [
    "# 5 Questions About These Datasets:\n",
    "### 1)  Can we correlate the amount of total projects submitted with the duration of enrollment?\n",
    "### 2)  What is the relationship between the number of submitted projects and the amount of daily engagement?\n",
    "### 3)  What is the relationship between the number of projects completed and whether the student has a cancelled account?\n",
    "### 4)  What is the relationship between the projects in \"Ungraded\" current enrollment status?\n",
    "### 5)  What is the relationship between the daily engagement for a student and the number of projects passed?"
   ]
  },
  {
   "cell_type": "code",
   "execution_count": 16,
   "metadata": {},
   "outputs": [
    {
     "name": "stdout",
     "output_type": "stream",
     "text": [
      "1640\n"
     ]
    }
   ],
   "source": [
    "enrollment_num_rows = len(enrollments)\n",
    "print enrollment_num_rows"
   ]
  },
  {
   "cell_type": "code",
   "execution_count": 30,
   "metadata": {},
   "outputs": [
    {
     "data": {
      "text/plain": [
       "1302"
      ]
     },
     "execution_count": 30,
     "metadata": {},
     "output_type": "execute_result"
    }
   ],
   "source": [
    "def get_unique_accounts(dictionary):\n",
    "    unique_keys = set()\n",
    "    for key in dictionary:\n",
    "        unique_keys.add(key['acct'])\n",
    "    len(unique_keys)\n",
    "    return len(unique_keys)"
   ]
  },
  {
   "cell_type": "code",
   "execution_count": 29,
   "metadata": {},
   "outputs": [],
   "source": [
    "def get_unique_keys(dictionary):\n",
    "    unique_keys = set()\n",
    "    for key in dictionary:\n",
    "        unique_keys.add(key['account_key'])\n",
    "    len(unique_keys)\n",
    "    return len(unique_keys)\n"
   ]
  },
  {
   "cell_type": "code",
   "execution_count": null,
   "metadata": {
    "collapsed": true
   },
   "outputs": [],
   "source": []
  }
 ],
 "metadata": {
  "kernelspec": {
   "display_name": "Python 2",
   "language": "python",
   "name": "python2"
  },
  "language_info": {
   "codemirror_mode": {
    "name": "ipython",
    "version": 2
   },
   "file_extension": ".py",
   "mimetype": "text/x-python",
   "name": "python",
   "nbconvert_exporter": "python",
   "pygments_lexer": "ipython2",
   "version": "2.7.13"
  }
 },
 "nbformat": 4,
 "nbformat_minor": 2
}
